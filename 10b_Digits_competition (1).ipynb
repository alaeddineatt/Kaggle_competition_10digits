{
 "cells": [
  {
   "cell_type": "code",
   "execution_count": null,
   "metadata": {
    "colab": {
     "base_uri": "https://localhost:8080/",
     "height": 33
    },
    "executionInfo": {
     "elapsed": 30295,
     "status": "ok",
     "timestamp": 1603058152043,
     "user": {
      "displayName": "Attrassi Alae Dine",
      "photoUrl": "",
      "userId": "03072329405438205977"
     },
     "user_tz": -120
    },
    "id": "wNTe30OzsD_Z",
    "outputId": "a458067e-8043-4d84-b764-1f7389c0dfe0"
   },
   "outputs": [
    {
     "name": "stdout",
     "output_type": "stream",
     "text": [
      "Mounted at /content/drive\n"
     ]
    }
   ],
   "source": [
    "from google.colab import drive\n",
    "drive.mount('/content/drive')"
   ]
  },
  {
   "cell_type": "code",
   "execution_count": null,
   "metadata": {
    "id": "TkeeEE86r0IY"
   },
   "outputs": [],
   "source": [
    "# TensorFlow ≥2.0 is required\n",
    "import tensorflow as tf\n",
    "assert tf.__version__ >= \"2.0\"\n",
    "\n",
    "# Common imports\n",
    "import numpy as np\n",
    "import os\n",
    "import pandas as pd\n",
    "\n",
    "# to make this notebook's output stable across runs\n",
    "np.random.seed(42)\n",
    "\n",
    "# To plot pretty figures\n",
    "%matplotlib inline\n",
    "import matplotlib as mpl\n",
    "import matplotlib.pyplot as plt\n",
    "mpl.rc('axes', labelsize=14)\n",
    "mpl.rc('xtick', labelsize=12)\n",
    "mpl.rc('ytick', labelsize=12)"
   ]
  },
  {
   "cell_type": "markdown",
   "metadata": {
    "id": "MTGjIov2r0Ij"
   },
   "source": [
    "# Building an Image Classifier"
   ]
  },
  {
   "cell_type": "markdown",
   "metadata": {
    "id": "A3dJYpejr0Ik"
   },
   "source": [
    "*Here we will train a digits classifiers on MNIST dataset*"
   ]
  },
  {
   "cell_type": "code",
   "execution_count": null,
   "metadata": {
    "id": "2ICG3uF8r0Im"
   },
   "outputs": [],
   "source": [
    "import tensorflow as tf\n",
    "from tensorflow import keras"
   ]
  },
  {
   "cell_type": "markdown",
   "metadata": {
    "id": "F-eJW-lMr0Iu"
   },
   "source": [
    "Let's load the dataset:"
   ]
  },
  {
   "cell_type": "markdown",
   "metadata": {
    "id": "3kDAsSvIr0Mv"
   },
   "source": [
    "Go to the InClass Kaggle competition https://www.kaggle.com/t/d49c78cbdebb4bc18a53ea5360ae055f \\\n",
    "register and download training and test dataset. Train model on the training dataset. Try to improve baseline results."
   ]
  },
  {
   "cell_type": "code",
   "execution_count": null,
   "metadata": {
    "id": "3TA_17Xbr0Mv"
   },
   "outputs": [],
   "source": [
    "import pandas as pd\n",
    "from sklearn.model_selection import train_test_split\n",
    "\n",
    "import numpy as np"
   ]
  },
  {
   "cell_type": "code",
   "execution_count": null,
   "metadata": {
    "id": "SExtNfnVr0M4"
   },
   "outputs": [],
   "source": [
    "### download the csv files first, and put them in the same folder, as the notebook\n",
    "\n",
    "train_data = np.genfromtxt('/content/drive/My Drive/wbi/train_data.csv', delimiter=',')\n",
    "test_data = np.genfromtxt('/content/drive/My Drive/wbi/test_data.csv', delimiter=',')"
   ]
  },
  {
   "cell_type": "code",
   "execution_count": null,
   "metadata": {
    "id": "koNRdwu9r0M_"
   },
   "outputs": [],
   "source": [
    "### last column is the target value\n",
    "\n",
    "X_train_full = train_data[:,:-1]\n",
    "y_train_full = train_data[:,-1]"
   ]
  },
  {
   "cell_type": "code",
   "execution_count": null,
   "metadata": {
    "id": "CmXKIpUmr0NC"
   },
   "outputs": [],
   "source": [
    "X_test = test_data"
   ]
  },
  {
   "cell_type": "markdown",
   "metadata": {
    "id": "jf4nnIizr0NF"
   },
   "source": [
    "Let's transform rows to images"
   ]
  },
  {
   "cell_type": "code",
   "execution_count": null,
   "metadata": {
    "id": "3yJ8Zardr0NG"
   },
   "outputs": [],
   "source": [
    "X_train_full = X_train_full.reshape(-1, 28, 28,1)\n",
    "X_test = X_test.reshape(-1, 28, 28,1)"
   ]
  },
  {
   "cell_type": "markdown",
   "metadata": {
    "id": "1iYFIGETr0NM"
   },
   "source": [
    "As an example, here you have a simple neural network. Try different options (build your own CNN), and submit solution to Kaggle competition."
   ]
  },
  {
   "cell_type": "code",
   "execution_count": null,
   "metadata": {
    "colab": {
     "base_uri": "https://localhost:8080/",
     "height": 33
    },
    "executionInfo": {
     "elapsed": 56005,
     "status": "ok",
     "timestamp": 1603058233356,
     "user": {
      "displayName": "Attrassi Alae Dine",
      "photoUrl": "",
      "userId": "03072329405438205977"
     },
     "user_tz": -120
    },
    "id": "Dl_LQiX6r0NN",
    "outputId": "7867c027-380c-4902-b355-ac7cbde531f9"
   },
   "outputs": [
    {
     "data": {
      "text/plain": [
       "(12000, 28, 28, 1)"
      ]
     },
     "execution_count": 22,
     "metadata": {
      "tags": []
     },
     "output_type": "execute_result"
    }
   ],
   "source": [
    "X_train_full.shape"
   ]
  },
  {
   "cell_type": "code",
   "execution_count": null,
   "metadata": {
    "id": "mDXGSNRor0NR"
   },
   "outputs": [],
   "source": [
    "X_valid, X_train = X_train_full[:2000] / 255., X_train_full[2000:] / 255.\n",
    "y_valid, y_train = y_train_full[:2000], y_train_full[2000:]\n",
    "X_test = X_test / 255."
   ]
  },
  {
   "cell_type": "code",
   "execution_count": null,
   "metadata": {
    "colab": {
     "base_uri": "https://localhost:8080/",
     "height": 285
    },
    "executionInfo": {
     "elapsed": 50366,
     "status": "ok",
     "timestamp": 1603058233695,
     "user": {
      "displayName": "Attrassi Alae Dine",
      "photoUrl": "",
      "userId": "03072329405438205977"
     },
     "user_tz": -120
    },
    "id": "DitqV1LUr0NX",
    "outputId": "98e3b534-e736-4f32-c008-efd0b237d9e0"
   },
   "outputs": [
    {
     "data": {
      "text/plain": [
       "<matplotlib.image.AxesImage at 0x7fc472c31940>"
      ]
     },
     "execution_count": 24,
     "metadata": {
      "tags": []
     },
     "output_type": "execute_result"
    },
    {
     "data": {
      "image/png": "[encoded data removed]",
      "text/plain": [
       "<Figure size 432x288 with 1 Axes>"
      ]
     },
     "metadata": {
      "needs_background": "light",
      "tags": []
     },
     "output_type": "display_data"
    }
   ],
   "source": [
    "plt.imshow(X_train[2][:,:,0])"
   ]
  },
  {
   "cell_type": "code",
   "execution_count": 156,
   "metadata": {
    "executionInfo": {
     "elapsed": 816,
     "status": "ok",
     "timestamp": 1603066070134,
     "user": {
      "displayName": "Attrassi Alae Dine",
      "photoUrl": "",
      "userId": "03072329405438205977"
     },
     "user_tz": -120
    },
    "id": "0kzN_vJcsP8_"
   },
   "outputs": [],
   "source": [
    "datagen_train = keras.preprocessing.image.ImageDataGenerator(\n",
    "    #featurewise_center=True,\n",
    "    #featurewise_std_normalization=True,\n",
    "    rotation_range=5,\n",
    "    width_shift_range=2,\n",
    "    height_shift_range=2,\n",
    "    horizontal_flip=False)\n",
    "dataget_test = keras.preprocessing.image.ImageDataGenerator(\n",
    "    #featurewise_center=True,\n",
    "    #featurewise_std_normalization=True,\n",
    ")\n",
    "datagen_train.fit(X_train)\n",
    "dataget_test.fit(X_train)"
   ]
  },
  {
   "cell_type": "code",
   "execution_count": 157,
   "metadata": {
    "executionInfo": {
     "elapsed": 747,
     "status": "ok",
     "timestamp": 1603066070813,
     "user": {
      "displayName": "Attrassi Alae Dine",
      "photoUrl": "",
      "userId": "03072329405438205977"
     },
     "user_tz": -120
    },
    "id": "4Dq9DajWr0Nd"
   },
   "outputs": [],
   "source": [
    "model_cnn = keras.models.Sequential([\n",
    "    keras.layers.Conv2D(128, (3,3),padding=\"same\", input_shape=[28, 28, 1]),\n",
    "    keras.layers.Conv2D(128, (3,3), padding=\"same\"),\n",
    "    keras.layers.Conv2D(128, (3,3), padding=\"same\"),\n",
    "    keras.layers.Conv2D(128, (3,3), padding=\"same\"),\n",
    "    keras.layers.Conv2D(128, (3,3), padding=\"same\"),\n",
    "    keras.layers.MaxPooling2D((2,2)),\n",
    "    keras.layers.Conv2D(128, (3,3), padding=\"same\"),\n",
    "    keras.layers.Conv2D(128, (3,3), padding=\"same\"),\n",
    "    keras.layers.MaxPooling2D((2,2)),    \n",
    "    keras.layers.Conv2D(128, (3,3), padding=\"same\"),\n",
    "    keras.layers.Conv2D(128, (3,3), padding=\"same\"),\n",
    "    keras.layers.MaxPooling2D((2,2)),\n",
    "    keras.layers.Conv2D(128, (3,3), padding=\"same\"),\n",
    "    keras.layers.Conv2D(128, (3,3), padding=\"same\"),\n",
    "    keras.layers.MaxPooling2D((2,2)),    \n",
    "    keras.layers.Flatten(),\n",
    "    keras.layers.Dropout(0.5),\n",
    "    keras.layers.Dense(10, activation=\"sigmoid\")\n",
    "])"
   ]
  },
  {
   "cell_type": "code",
   "execution_count": 158,
   "metadata": {
    "executionInfo": {
     "elapsed": 657,
     "status": "ok",
     "timestamp": 1603066073221,
     "user": {
      "displayName": "Attrassi Alae Dine",
      "photoUrl": "",
      "userId": "03072329405438205977"
     },
     "user_tz": -120
    },
    "id": "RgWWqjHvsURO"
   },
   "outputs": [],
   "source": [
    "early_stopping_cb = keras.callbacks.EarlyStopping(patience=15,\n",
    "                                                  restore_best_weights=True,\n",
    "                                                 monitor=\"val_accuracy\",\n",
    "                                                 verbose=1)\n",
    "reduce_lr_plateau = keras.callbacks.ReduceLROnPlateau(patience=6,monitor=\"val_accuracy\",\n",
    "                                                     verbose=1,\n",
    "                                                     factor=0.5,\n",
    "                                                      min_lr=0.000041\n",
    "                                                     )\n",
    "callbacks = [early_stopping_cb, reduce_lr_plateau]"
   ]
  },
  {
   "cell_type": "code",
   "execution_count": 160,
   "metadata": {
    "executionInfo": {
     "elapsed": 661,
     "status": "ok",
     "timestamp": 1603066084089,
     "user": {
      "displayName": "Attrassi Alae Dine",
      "photoUrl": "",
      "userId": "03072329405438205977"
     },
     "user_tz": -120
    },
    "id": "QP6ZoDzjr0Ni"
   },
   "outputs": [],
   "source": [
    "model_cnn.compile(loss=\"sparse_categorical_crossentropy\",\n",
    "              optimizer= keras.optimizers.Adamax(), ##keras.optimizers.SGD(0.001),\n",
    "              metrics=[\"accuracy\"])"
   ]
  },
  {
   "cell_type": "code",
   "execution_count": 161,
   "metadata": {
    "colab": {
     "base_uri": "https://localhost:8080/",
     "height": 1000
    },
    "executionInfo": {
     "elapsed": 342013,
     "status": "ok",
     "timestamp": 1603066426918,
     "user": {
      "displayName": "Attrassi Alae Dine",
      "photoUrl": "",
      "userId": "03072329405438205977"
     },
     "user_tz": -120
    },
    "id": "BU1tLSrGr0Nm",
    "outputId": "102bce87-20c2-4721-fe87-df724ec5cc7d"
   },
   "outputs": [
    {
     "name": "stdout",
     "output_type": "stream",
     "text": [
      "Epoch 1/200\n",
      "313/312 [==============================] - 7s 21ms/step - loss: 2.3037 - accuracy: 0.1090 - val_loss: 2.3016 - val_accuracy: 0.1125\n",
      "Epoch 2/200\n",
      "313/312 [==============================] - 6s 21ms/step - loss: 2.3031 - accuracy: 0.1039 - val_loss: 2.3020 - val_accuracy: 0.1130\n",
      "Epoch 3/200\n",
      "313/312 [==============================] - 7s 21ms/step - loss: 2.3033 - accuracy: 0.1055 - val_loss: 2.3020 - val_accuracy: 0.1130\n",
      "Epoch 4/200\n",
      "313/312 [==============================] - 7s 21ms/step - loss: 2.3027 - accuracy: 0.1046 - val_loss: 2.3021 - val_accuracy: 0.1130\n",
      "Epoch 5/200\n",
      "313/312 [==============================] - 7s 21ms/step - loss: 2.3032 - accuracy: 0.1045 - val_loss: 2.3010 - val_accuracy: 0.1130\n",
      "Epoch 6/200\n",
      "313/312 [==============================] - 7s 21ms/step - loss: 2.3028 - accuracy: 0.1072 - val_loss: 2.3020 - val_accuracy: 0.1130\n",
      "Epoch 7/200\n",
      "313/312 [==============================] - 7s 21ms/step - loss: 2.3032 - accuracy: 0.1055 - val_loss: 2.3010 - val_accuracy: 0.1130\n",
      "Epoch 8/200\n",
      "313/312 [==============================] - ETA: 0s - loss: 2.3024 - accuracy: 0.1110\n",
      "Epoch 00008: ReduceLROnPlateau reducing learning rate to 0.0005000000237487257.\n",
      "313/312 [==============================] - 7s 21ms/step - loss: 2.3024 - accuracy: 0.1110 - val_loss: 2.3026 - val_accuracy: 0.0945\n",
      "Epoch 9/200\n",
      "313/312 [==============================] - 7s 21ms/step - loss: 2.3019 - accuracy: 0.1134 - val_loss: 2.3016 - val_accuracy: 0.1130\n",
      "Epoch 10/200\n",
      "313/312 [==============================] - 7s 21ms/step - loss: 2.3021 - accuracy: 0.1102 - val_loss: 2.3016 - val_accuracy: 0.1130\n",
      "Epoch 11/200\n",
      "313/312 [==============================] - 7s 21ms/step - loss: 1.9624 - accuracy: 0.2873 - val_loss: 0.8155 - val_accuracy: 0.7620\n",
      "Epoch 12/200\n",
      "313/312 [==============================] - 7s 21ms/step - loss: 1.1138 - accuracy: 0.6545 - val_loss: 0.5726 - val_accuracy: 0.8410\n",
      "Epoch 13/200\n",
      "313/312 [==============================] - 7s 21ms/step - loss: 0.8404 - accuracy: 0.7429 - val_loss: 0.3674 - val_accuracy: 0.8885\n",
      "Epoch 14/200\n",
      "313/312 [==============================] - 7s 21ms/step - loss: 0.7026 - accuracy: 0.7910 - val_loss: 0.3486 - val_accuracy: 0.8975\n",
      "Epoch 15/200\n",
      "313/312 [==============================] - 7s 21ms/step - loss: 0.6040 - accuracy: 0.8211 - val_loss: 0.2707 - val_accuracy: 0.9160\n",
      "Epoch 16/200\n",
      "313/312 [==============================] - 7s 21ms/step - loss: 0.5311 - accuracy: 0.8393 - val_loss: 0.2526 - val_accuracy: 0.9275\n",
      "Epoch 17/200\n",
      "313/312 [==============================] - 7s 21ms/step - loss: 0.4842 - accuracy: 0.8559 - val_loss: 0.2744 - val_accuracy: 0.9150\n",
      "Epoch 18/200\n",
      "313/312 [==============================] - 7s 21ms/step - loss: 0.4537 - accuracy: 0.8671 - val_loss: 0.2294 - val_accuracy: 0.9295\n",
      "Epoch 19/200\n",
      "313/312 [==============================] - 7s 21ms/step - loss: 0.4230 - accuracy: 0.8748 - val_loss: 0.2199 - val_accuracy: 0.9300\n",
      "Epoch 20/200\n",
      "313/312 [==============================] - 7s 21ms/step - loss: 0.3961 - accuracy: 0.8788 - val_loss: 0.1890 - val_accuracy: 0.9420\n",
      "Epoch 21/200\n",
      "313/312 [==============================] - 7s 21ms/step - loss: 0.3729 - accuracy: 0.8881 - val_loss: 0.2041 - val_accuracy: 0.9410\n",
      "Epoch 22/200\n",
      "313/312 [==============================] - 7s 21ms/step - loss: 0.3485 - accuracy: 0.8928 - val_loss: 0.1751 - val_accuracy: 0.9470\n",
      "Epoch 23/200\n",
      "313/312 [==============================] - 7s 21ms/step - loss: 0.3200 - accuracy: 0.9003 - val_loss: 0.1953 - val_accuracy: 0.9385\n",
      "Epoch 24/200\n",
      "313/312 [==============================] - 7s 21ms/step - loss: 0.3181 - accuracy: 0.9045 - val_loss: 0.1609 - val_accuracy: 0.9475\n",
      "Epoch 25/200\n",
      "313/312 [==============================] - 7s 21ms/step - loss: 0.3006 - accuracy: 0.9088 - val_loss: 0.1738 - val_accuracy: 0.9440\n",
      "Epoch 26/200\n",
      "313/312 [==============================] - 7s 21ms/step - loss: 0.2885 - accuracy: 0.9110 - val_loss: 0.1642 - val_accuracy: 0.9485\n",
      "Epoch 27/200\n",
      "313/312 [==============================] - 7s 21ms/step - loss: 0.2923 - accuracy: 0.9092 - val_loss: 0.1572 - val_accuracy: 0.9485\n",
      "Epoch 28/200\n",
      "313/312 [==============================] - 7s 21ms/step - loss: 0.2763 - accuracy: 0.9176 - val_loss: 0.1486 - val_accuracy: 0.9525\n",
      "Epoch 29/200\n",
      "313/312 [==============================] - 7s 21ms/step - loss: 0.2723 - accuracy: 0.9164 - val_loss: 0.1658 - val_accuracy: 0.9475\n",
      "Epoch 30/200\n",
      "313/312 [==============================] - 7s 21ms/step - loss: 0.2547 - accuracy: 0.9240 - val_loss: 0.1596 - val_accuracy: 0.9475\n",
      "Epoch 31/200\n",
      "313/312 [==============================] - 7s 21ms/step - loss: 0.2425 - accuracy: 0.9263 - val_loss: 0.1730 - val_accuracy: 0.9455\n",
      "Epoch 32/200\n",
      "313/312 [==============================] - 7s 21ms/step - loss: 0.2392 - accuracy: 0.9256 - val_loss: 0.1642 - val_accuracy: 0.9510\n",
      "Epoch 33/200\n",
      "313/312 [==============================] - 7s 21ms/step - loss: 0.2411 - accuracy: 0.9253 - val_loss: 0.1656 - val_accuracy: 0.9500\n",
      "Epoch 34/200\n",
      "313/312 [==============================] - ETA: 0s - loss: 0.2252 - accuracy: 0.9303\n",
      "Epoch 00034: ReduceLROnPlateau reducing learning rate to 0.0002500000118743628.\n",
      "313/312 [==============================] - 7s 21ms/step - loss: 0.2252 - accuracy: 0.9303 - val_loss: 0.1509 - val_accuracy: 0.9500\n",
      "Epoch 35/200\n",
      "313/312 [==============================] - 7s 21ms/step - loss: 0.1938 - accuracy: 0.9366 - val_loss: 0.1572 - val_accuracy: 0.9545\n",
      "Epoch 36/200\n",
      "313/312 [==============================] - 7s 21ms/step - loss: 0.1910 - accuracy: 0.9389 - val_loss: 0.1225 - val_accuracy: 0.9620\n",
      "Epoch 37/200\n",
      "313/312 [==============================] - 7s 21ms/step - loss: 0.1764 - accuracy: 0.9467 - val_loss: 0.1273 - val_accuracy: 0.9605\n",
      "Epoch 38/200\n",
      "313/312 [==============================] - 7s 21ms/step - loss: 0.1790 - accuracy: 0.9446 - val_loss: 0.1313 - val_accuracy: 0.9575\n",
      "Epoch 39/200\n",
      "313/312 [==============================] - 7s 21ms/step - loss: 0.1774 - accuracy: 0.9472 - val_loss: 0.1365 - val_accuracy: 0.9550\n",
      "Epoch 40/200\n",
      "313/312 [==============================] - 7s 21ms/step - loss: 0.1682 - accuracy: 0.9472 - val_loss: 0.1400 - val_accuracy: 0.9540\n",
      "Epoch 41/200\n",
      "313/312 [==============================] - 7s 21ms/step - loss: 0.1703 - accuracy: 0.9486 - val_loss: 0.1353 - val_accuracy: 0.9595\n",
      "Epoch 42/200\n",
      "313/312 [==============================] - ETA: 0s - loss: 0.1586 - accuracy: 0.9499\n",
      "Epoch 00042: ReduceLROnPlateau reducing learning rate to 0.0001250000059371814.\n",
      "313/312 [==============================] - 7s 21ms/step - loss: 0.1586 - accuracy: 0.9499 - val_loss: 0.1356 - val_accuracy: 0.9605\n",
      "Epoch 43/200\n",
      "313/312 [==============================] - 7s 21ms/step - loss: 0.1454 - accuracy: 0.9529 - val_loss: 0.1415 - val_accuracy: 0.9575\n",
      "Epoch 44/200\n",
      "313/312 [==============================] - 7s 21ms/step - loss: 0.1412 - accuracy: 0.9549 - val_loss: 0.1414 - val_accuracy: 0.9570\n",
      "Epoch 45/200\n",
      "313/312 [==============================] - 7s 21ms/step - loss: 0.1350 - accuracy: 0.9568 - val_loss: 0.1382 - val_accuracy: 0.9610\n",
      "Epoch 46/200\n",
      "313/312 [==============================] - 7s 21ms/step - loss: 0.1487 - accuracy: 0.9524 - val_loss: 0.1316 - val_accuracy: 0.9600\n",
      "Epoch 47/200\n",
      "313/312 [==============================] - 7s 21ms/step - loss: 0.1372 - accuracy: 0.9579 - val_loss: 0.1384 - val_accuracy: 0.9570\n",
      "Epoch 48/200\n",
      "313/312 [==============================] - ETA: 0s - loss: 0.1329 - accuracy: 0.9587\n",
      "Epoch 00048: ReduceLROnPlateau reducing learning rate to 6.25000029685907e-05.\n",
      "313/312 [==============================] - 7s 21ms/step - loss: 0.1329 - accuracy: 0.9587 - val_loss: 0.1423 - val_accuracy: 0.9580\n",
      "Epoch 49/200\n",
      "313/312 [==============================] - 7s 21ms/step - loss: 0.1300 - accuracy: 0.9622 - val_loss: 0.1319 - val_accuracy: 0.9605\n",
      "Epoch 50/200\n",
      "313/312 [==============================] - 7s 21ms/step - loss: 0.1262 - accuracy: 0.9601 - val_loss: 0.1296 - val_accuracy: 0.9610\n",
      "Epoch 51/200\n",
      "313/312 [==============================] - ETA: 0s - loss: 0.1181 - accuracy: 0.9644Restoring model weights from the end of the best epoch.\n",
      "313/312 [==============================] - 7s 21ms/step - loss: 0.1181 - accuracy: 0.9644 - val_loss: 0.1298 - val_accuracy: 0.9615\n",
      "Epoch 00051: early stopping\n"
     ]
    }
   ],
   "source": [
    "history = model_cnn.fit(datagen_train.flow(X_train, y_train, batch_size=32),\n",
    "          steps_per_epoch=len(X_train) / 32, epochs=200,\n",
    "             validation_data=dataget_test.flow(X_valid, y_valid, batch_size=32),\n",
    "                       callbacks=callbacks)"
   ]
  },
  {
   "cell_type": "markdown",
   "metadata": {
    "id": "pD0HviE2r0N1"
   },
   "source": [
    "Now that we trained the model, we need to make a prediction on a test set, and save into csv"
   ]
  },
  {
   "cell_type": "code",
   "execution_count": 150,
   "metadata": {
    "executionInfo": {
     "elapsed": 10138,
     "status": "ok",
     "timestamp": 1603065850502,
     "user": {
      "displayName": "Attrassi Alae Dine",
      "photoUrl": "",
      "userId": "03072329405438205977"
     },
     "user_tz": -120
    },
    "id": "jI8c2DgNr0N3"
   },
   "outputs": [],
   "source": [
    "predictions = model_cnn.predict(X_test)"
   ]
  },
  {
   "cell_type": "code",
   "execution_count": 151,
   "metadata": {
    "executionInfo": {
     "elapsed": 10116,
     "status": "ok",
     "timestamp": 1603065850507,
     "user": {
      "displayName": "Attrassi Alae Dine",
      "photoUrl": "",
      "userId": "03072329405438205977"
     },
     "user_tz": -120
    },
    "id": "uQ3T67yhr0N9"
   },
   "outputs": [],
   "source": [
    "predictions_class = np.argmax(predictions, axis=1)"
   ]
  },
  {
   "cell_type": "code",
   "execution_count": 152,
   "metadata": {
    "colab": {
     "base_uri": "https://localhost:8080/",
     "height": 33
    },
    "executionInfo": {
     "elapsed": 10096,
     "status": "ok",
     "timestamp": 1603065850509,
     "user": {
      "displayName": "Attrassi Alae Dine",
      "photoUrl": "",
      "userId": "03072329405438205977"
     },
     "user_tz": -120
    },
    "id": "lCFDKHUqr0OD",
    "outputId": "ed18245f-81cf-4dd0-8327-52fc54d497fd"
   },
   "outputs": [
    {
     "data": {
      "text/plain": [
       "array([6, 6, 8, ..., 6, 0, 3])"
      ]
     },
     "execution_count": 152,
     "metadata": {
      "tags": []
     },
     "output_type": "execute_result"
    }
   ],
   "source": [
    "predictions_class"
   ]
  },
  {
   "cell_type": "code",
   "execution_count": 153,
   "metadata": {
    "executionInfo": {
     "elapsed": 10068,
     "status": "ok",
     "timestamp": 1603065850510,
     "user": {
      "displayName": "Attrassi Alae Dine",
      "photoUrl": "",
      "userId": "03072329405438205977"
     },
     "user_tz": -120
    },
    "id": "qf8p4CX8r0OO"
   },
   "outputs": [],
   "source": [
    "df_submission = pd.DataFrame(predictions_class, columns = [\"Category\"])\n",
    "df_submission[\"Id\"] = df_submission.index\n",
    "df_submission = df_submission[[\"Id\", \"Category\"]]"
   ]
  },
  {
   "cell_type": "code",
   "execution_count": 154,
   "metadata": {
    "colab": {
     "base_uri": "https://localhost:8080/",
     "height": 191
    },
    "executionInfo": {
     "elapsed": 10043,
     "status": "ok",
     "timestamp": 1603065850512,
     "user": {
      "displayName": "Attrassi Alae Dine",
      "photoUrl": "",
      "userId": "03072329405438205977"
     },
     "user_tz": -120
    },
    "id": "aGih29XMr0OS",
    "outputId": "6b499afe-18ff-40b8-e844-59b7e48ad640"
   },
   "outputs": [
    {
     "data": {
      "text/html": [
       "<div>\n",
       "<style scoped>\n",
       "    .dataframe tbody tr th:only-of-type {\n",
       "        vertical-align: middle;\n",
       "    }\n",
       "\n",
       "    .dataframe tbody tr th {\n",
       "        vertical-align: top;\n",
       "    }\n",
       "\n",
       "    .dataframe thead th {\n",
       "        text-align: right;\n",
       "    }\n",
       "</style>\n",
       "<table border=\"1\" class=\"dataframe\">\n",
       "  <thead>\n",
       "    <tr style=\"text-align: right;\">\n",
       "      <th></th>\n",
       "      <th>Id</th>\n",
       "      <th>Category</th>\n",
       "    </tr>\n",
       "  </thead>\n",
       "  <tbody>\n",
       "    <tr>\n",
       "      <th>0</th>\n",
       "      <td>0</td>\n",
       "      <td>6</td>\n",
       "    </tr>\n",
       "    <tr>\n",
       "      <th>1</th>\n",
       "      <td>1</td>\n",
       "      <td>6</td>\n",
       "    </tr>\n",
       "    <tr>\n",
       "      <th>2</th>\n",
       "      <td>2</td>\n",
       "      <td>8</td>\n",
       "    </tr>\n",
       "    <tr>\n",
       "      <th>3</th>\n",
       "      <td>3</td>\n",
       "      <td>4</td>\n",
       "    </tr>\n",
       "    <tr>\n",
       "      <th>4</th>\n",
       "      <td>4</td>\n",
       "      <td>5</td>\n",
       "    </tr>\n",
       "  </tbody>\n",
       "</table>\n",
       "</div>"
      ],
      "text/plain": [
       "   Id  Category\n",
       "0   0         6\n",
       "1   1         6\n",
       "2   2         8\n",
       "3   3         4\n",
       "4   4         5"
      ]
     },
     "execution_count": 154,
     "metadata": {
      "tags": []
     },
     "output_type": "execute_result"
    }
   ],
   "source": [
    "df_submission.head()"
   ]
  },
  {
   "cell_type": "code",
   "execution_count": 155,
   "metadata": {
    "executionInfo": {
     "elapsed": 10025,
     "status": "ok",
     "timestamp": 1603065850515,
     "user": {
      "displayName": "Attrassi Alae Dine",
      "photoUrl": "",
      "userId": "03072329405438205977"
     },
     "user_tz": -120
    },
    "id": "LVu8TENFr0OX"
   },
   "outputs": [],
   "source": [
    "df_submission.to_csv(\"baseline2.csv\", index=False)"
   ]
  }
 ],
 "metadata": {
  "accelerator": "GPU",
  "colab": {
   "name": "10b_Digits_competition.ipynb",
   "provenance": [],
   "toc_visible": true
  },
  "kernelspec": {
   "display_name": "Python 3",
   "language": "python",
   "name": "python3"
  },
  "language_info": {
   "codemirror_mode": {
    "name": "ipython",
    "version": 3
   },
   "file_extension": ".py",
   "mimetype": "text/x-python",
   "name": "python",
   "nbconvert_exporter": "python",
   "pygments_lexer": "ipython3",
   "version": "3.8.3"
  },
  "nav_menu": {
   "height": "264px",
   "width": "369px"
  },
  "toc": {
   "navigate_menu": true,
   "number_sections": true,
   "sideBar": true,
   "threshold": 6,
   "toc_cell": false,
   "toc_section_display": "block",
   "toc_window_display": false
  }
 },
 "nbformat": 4,
 "nbformat_minor": 4
}
